{
 "cells": [
  {
   "cell_type": "code",
   "execution_count": null,
   "metadata": {},
   "outputs": [],
   "source": [
    "#1 \n",
    "A> Internship\n",
    "b> 2.5\n"
   ]
  },
  {
   "cell_type": "code",
   "execution_count": null,
   "metadata": {},
   "outputs": [],
   "source": [
    "#2\n",
    " answer- 1"
   ]
  },
  {
   "cell_type": "code",
   "execution_count": null,
   "metadata": {},
   "outputs": [],
   "source": [
    "#3 \n",
    "\n",
    "170.54+0.15x ( solved the equation in pen and paper)"
   ]
  },
  {
   "cell_type": "code",
   "execution_count": null,
   "metadata": {},
   "outputs": [],
   "source": [
    "#4\n",
    "\n",
    "T= unstandardized Coifficient of Crime/standard error of Crime\n",
    "\n",
    "-9.460=coifficient of crime/0.044\n",
    "coifficient of crime= -0.41624\n",
    "\n",
    "for every unit increase in Crime Rate, the property price will decrease at the rate of 0.41624"
   ]
  },
  {
   "cell_type": "code",
   "execution_count": null,
   "metadata": {},
   "outputs": [],
   "source": [
    "#5\n",
    " from the data estimated value of parameter = 9.46*0.044= 0.41624\n",
    "    Given parameter =0.3\n",
    "    \n",
    "    t- statastics = 0.41624-0.3/0.044 = 2.6418 (unit)\n",
    "    \n",
    "    t value at alpha 0.05 is 1.647\n",
    "    \n",
    "    the calculated statastics is greater than t critical value\n",
    "    implies its a right tail test\n",
    "    and Therefore, it can be concluded that the claim of Francis Galton that for every unit increase in crime rate, \n",
    "    the price will decrease by at least INR 30,000 is valid."
   ]
  },
  {
   "cell_type": "code",
   "execution_count": 58,
   "metadata": {},
   "outputs": [],
   "source": [
    "#6\n",
    "# Import required libraries\n",
    "import numpy as np                  #data handling\n",
    "import pandas as pd  \n",
    "\n",
    "import math\n",
    "import scipy.stats as st            #Statistics\n",
    "\n",
    "import matplotlib.pyplot as plt     #Visualization\n",
    "import seaborn as sns \n",
    "import statsmodels.api as sm"
   ]
  },
  {
   "cell_type": "code",
   "execution_count": 59,
   "metadata": {},
   "outputs": [
    {
     "data": {
      "text/html": [
       "<div>\n",
       "<style scoped>\n",
       "    .dataframe tbody tr th:only-of-type {\n",
       "        vertical-align: middle;\n",
       "    }\n",
       "\n",
       "    .dataframe tbody tr th {\n",
       "        vertical-align: top;\n",
       "    }\n",
       "\n",
       "    .dataframe thead th {\n",
       "        text-align: right;\n",
       "    }\n",
       "</style>\n",
       "<table border=\"1\" class=\"dataframe\">\n",
       "  <thead>\n",
       "    <tr style=\"text-align: right;\">\n",
       "      <th></th>\n",
       "      <th>Truck</th>\n",
       "      <th>Maintenance Expense</th>\n",
       "      <th>Miles Driven</th>\n",
       "      <th>Age of Truck</th>\n",
       "    </tr>\n",
       "  </thead>\n",
       "  <tbody>\n",
       "    <tr>\n",
       "      <th>0</th>\n",
       "      <td>1</td>\n",
       "      <td>908.56</td>\n",
       "      <td>10500</td>\n",
       "      <td>10</td>\n",
       "    </tr>\n",
       "    <tr>\n",
       "      <th>1</th>\n",
       "      <td>2</td>\n",
       "      <td>751.12</td>\n",
       "      <td>9700</td>\n",
       "      <td>7</td>\n",
       "    </tr>\n",
       "    <tr>\n",
       "      <th>2</th>\n",
       "      <td>3</td>\n",
       "      <td>793.55</td>\n",
       "      <td>9200</td>\n",
       "      <td>8</td>\n",
       "    </tr>\n",
       "    <tr>\n",
       "      <th>3</th>\n",
       "      <td>4</td>\n",
       "      <td>619.61</td>\n",
       "      <td>8300</td>\n",
       "      <td>9</td>\n",
       "    </tr>\n",
       "    <tr>\n",
       "      <th>4</th>\n",
       "      <td>5</td>\n",
       "      <td>380.11</td>\n",
       "      <td>6500</td>\n",
       "      <td>5</td>\n",
       "    </tr>\n",
       "  </tbody>\n",
       "</table>\n",
       "</div>"
      ],
      "text/plain": [
       "   Truck  Maintenance Expense  Miles Driven  Age of Truck\n",
       "0      1               908.56         10500            10\n",
       "1      2               751.12          9700             7\n",
       "2      3               793.55          9200             8\n",
       "3      4               619.61          8300             9\n",
       "4      5               380.11          6500             5"
      ]
     },
     "execution_count": 59,
     "metadata": {},
     "output_type": "execute_result"
    }
   ],
   "source": [
    "#6\n",
    "truck = pd.read_excel(\"MLR_TruckMaintenance.xlsx\", sheet_name='Data')\n",
    "truck.head()"
   ]
  },
  {
   "cell_type": "code",
   "execution_count": 26,
   "metadata": {},
   "outputs": [
    {
     "data": {
      "text/plain": [
       "Index(['Truck', 'Maintenance Expense', 'Miles Driven', 'Age of Truck'], dtype='object')"
      ]
     },
     "execution_count": 26,
     "metadata": {},
     "output_type": "execute_result"
    }
   ],
   "source": [
    "truck.columns\n"
   ]
  },
  {
   "cell_type": "code",
   "execution_count": 60,
   "metadata": {},
   "outputs": [
    {
     "name": "stdout",
     "output_type": "stream",
     "text": [
      "                             OLS Regression Results                            \n",
      "===============================================================================\n",
      "Dep. Variable:     Maintenance Expense   R-squared:                       0.951\n",
      "Model:                             OLS   Adj. R-squared:                  0.946\n",
      "Method:                  Least Squares   F-statistic:                     195.0\n",
      "Date:                 Tue, 30 Aug 2022   Prob (F-statistic):           7.62e-14\n",
      "Time:                         08:02:02   Log-Likelihood:                -127.47\n",
      "No. Observations:                   23   AIC:                             260.9\n",
      "Df Residuals:                       20   BIC:                             264.3\n",
      "Df Model:                            2                                         \n",
      "Covariance Type:             nonrobust                                         \n",
      "================================================================================\n",
      "                   coef    std err          t      P>|t|      [0.025      0.975]\n",
      "--------------------------------------------------------------------------------\n",
      "const           11.4184     29.191      0.391      0.700     -49.473      72.310\n",
      "Miles Driven     0.0712      0.009      8.274      0.000       0.053       0.089\n",
      "Age of Truck    10.7086      9.186      1.166      0.257      -8.453      29.871\n",
      "==============================================================================\n",
      "Omnibus:                        1.263   Durbin-Watson:                   1.925\n",
      "Prob(Omnibus):                  0.532   Jarque-Bera (JB):                0.521\n",
      "Skew:                          -0.362   Prob(JB):                        0.771\n",
      "Kurtosis:                       3.142   Cond. No.                     1.52e+04\n",
      "==============================================================================\n",
      "\n",
      "Notes:\n",
      "[1] Standard Errors assume that the covariance matrix of the errors is correctly specified.\n",
      "[2] The condition number is large, 1.52e+04. This might indicate that there are\n",
      "strong multicollinearity or other numerical problems.\n"
     ]
    },
    {
     "name": "stderr",
     "output_type": "stream",
     "text": [
      "/Users/kshyamasagardas/opt/anaconda3/lib/python3.7/site-packages/statsmodels/tsa/tsatools.py:142: FutureWarning: In a future version of pandas all arguments of concat except for the argument 'objs' will be keyword-only\n",
      "  x = pd.concat(x[::order], 1)\n"
     ]
    }
   ],
   "source": [
    "# Training a linear regression model for maintenance Expense ~ X  \n",
    "X=truck.drop(columns='Maintenance Expense')\n",
    "Y = truck['Maintenance Expense']\n",
    "\n",
    "X = truck.drop(['Maintenance Expense','Truck'], axis=1) #truck.drop(columns='Maintenance Expense','Truck')\n",
    "X = sm.add_constant(X) # adding a constant\n",
    "\n",
    "reg_model = sm.OLS(Y,X).fit()\n",
    "print(reg_model.summary())   "
   ]
  },
  {
   "cell_type": "code",
   "execution_count": null,
   "metadata": {},
   "outputs": [],
   "source": [
    "# from the above data the age of the truck we may discard as the p value is > 0.05 and the condition numer is high."
   ]
  },
  {
   "cell_type": "code",
   "execution_count": 61,
   "metadata": {},
   "outputs": [
    {
     "name": "stdout",
     "output_type": "stream",
     "text": [
      "                             OLS Regression Results                            \n",
      "===============================================================================\n",
      "Dep. Variable:     Maintenance Expense   R-squared:                       0.948\n",
      "Model:                             OLS   Adj. R-squared:                  0.945\n",
      "Method:                  Least Squares   F-statistic:                     382.2\n",
      "Date:                 Tue, 30 Aug 2022   Prob (F-statistic):           5.92e-15\n",
      "Time:                         08:02:08   Log-Likelihood:                -128.22\n",
      "No. Observations:                   23   AIC:                             260.4\n",
      "Df Residuals:                       21   BIC:                             262.7\n",
      "Df Model:                            1                                         \n",
      "Covariance Type:             nonrobust                                         \n",
      "================================================================================\n",
      "                   coef    std err          t      P>|t|      [0.025      0.975]\n",
      "--------------------------------------------------------------------------------\n",
      "const           13.2242     29.398      0.450      0.657     -47.912      74.361\n",
      "Miles Driven     0.0801      0.004     19.549      0.000       0.072       0.089\n",
      "==============================================================================\n",
      "Omnibus:                        0.973   Durbin-Watson:                   1.970\n",
      "Prob(Omnibus):                  0.615   Jarque-Bera (JB):                0.261\n",
      "Skew:                          -0.241   Prob(JB):                        0.878\n",
      "Kurtosis:                       3.199   Cond. No.                     1.52e+04\n",
      "==============================================================================\n",
      "\n",
      "Notes:\n",
      "[1] Standard Errors assume that the covariance matrix of the errors is correctly specified.\n",
      "[2] The condition number is large, 1.52e+04. This might indicate that there are\n",
      "strong multicollinearity or other numerical problems.\n"
     ]
    },
    {
     "name": "stderr",
     "output_type": "stream",
     "text": [
      "/Users/kshyamasagardas/opt/anaconda3/lib/python3.7/site-packages/statsmodels/tsa/tsatools.py:142: FutureWarning: In a future version of pandas all arguments of concat except for the argument 'objs' will be keyword-only\n",
      "  x = pd.concat(x[::order], 1)\n"
     ]
    }
   ],
   "source": [
    "X = truck.drop(['Maintenance Expense','Truck','Age of Truck'], axis=1) #truck.drop(columns='Maintenance Expense','Truck')\n",
    "X = sm.add_constant(X) # adding a constant\n",
    "\n",
    "reg_model = sm.OLS(Y,X).fit()\n",
    "print(reg_model.summary())   \n",
    " "
   ]
  },
  {
   "cell_type": "markdown",
   "metadata": {},
   "source": [
    "conclusion :\n",
    "    the equation is y= 13.2242+ 0.08(Mile driven)\n",
    "     R square for the data set is 0.948 i.e 94.8%\n",
    "    "
   ]
  },
  {
   "cell_type": "code",
   "execution_count": 62,
   "metadata": {},
   "outputs": [
    {
     "data": {
      "text/html": [
       "<div>\n",
       "<style scoped>\n",
       "    .dataframe tbody tr th:only-of-type {\n",
       "        vertical-align: middle;\n",
       "    }\n",
       "\n",
       "    .dataframe tbody tr th {\n",
       "        vertical-align: top;\n",
       "    }\n",
       "\n",
       "    .dataframe thead th {\n",
       "        text-align: right;\n",
       "    }\n",
       "</style>\n",
       "<table border=\"1\" class=\"dataframe\">\n",
       "  <thead>\n",
       "    <tr style=\"text-align: right;\">\n",
       "      <th></th>\n",
       "      <th>Month</th>\n",
       "      <th>Machine Hours</th>\n",
       "      <th>Production Runs</th>\n",
       "      <th>Overhead Cost</th>\n",
       "    </tr>\n",
       "  </thead>\n",
       "  <tbody>\n",
       "    <tr>\n",
       "      <th>30</th>\n",
       "      <td>31</td>\n",
       "      <td>1124</td>\n",
       "      <td>36</td>\n",
       "      <td>88371</td>\n",
       "    </tr>\n",
       "    <tr>\n",
       "      <th>6</th>\n",
       "      <td>7</td>\n",
       "      <td>1716</td>\n",
       "      <td>41</td>\n",
       "      <td>117287</td>\n",
       "    </tr>\n",
       "    <tr>\n",
       "      <th>5</th>\n",
       "      <td>6</td>\n",
       "      <td>1777</td>\n",
       "      <td>30</td>\n",
       "      <td>107925</td>\n",
       "    </tr>\n",
       "    <tr>\n",
       "      <th>16</th>\n",
       "      <td>17</td>\n",
       "      <td>1769</td>\n",
       "      <td>34</td>\n",
       "      <td>110054</td>\n",
       "    </tr>\n",
       "    <tr>\n",
       "      <th>9</th>\n",
       "      <td>10</td>\n",
       "      <td>1516</td>\n",
       "      <td>21</td>\n",
       "      <td>88738</td>\n",
       "    </tr>\n",
       "  </tbody>\n",
       "</table>\n",
       "</div>"
      ],
      "text/plain": [
       "    Month  Machine Hours  Production Runs  Overhead Cost\n",
       "30     31           1124               36          88371\n",
       "6       7           1716               41         117287\n",
       "5       6           1777               30         107925\n",
       "16     17           1769               34         110054\n",
       "9      10           1516               21          88738"
      ]
     },
     "execution_count": 62,
     "metadata": {},
     "output_type": "execute_result"
    }
   ],
   "source": [
    "#7\n",
    "fact_overhead = pd.read_csv(\"MLR_FactoryOverhead.csv\")\n",
    "fact_overhead.sample(5)"
   ]
  },
  {
   "cell_type": "code",
   "execution_count": 63,
   "metadata": {},
   "outputs": [
    {
     "data": {
      "text/html": [
       "<div>\n",
       "<style scoped>\n",
       "    .dataframe tbody tr th:only-of-type {\n",
       "        vertical-align: middle;\n",
       "    }\n",
       "\n",
       "    .dataframe tbody tr th {\n",
       "        vertical-align: top;\n",
       "    }\n",
       "\n",
       "    .dataframe thead th {\n",
       "        text-align: right;\n",
       "    }\n",
       "</style>\n",
       "<table border=\"1\" class=\"dataframe\">\n",
       "  <thead>\n",
       "    <tr style=\"text-align: right;\">\n",
       "      <th></th>\n",
       "      <th>Month</th>\n",
       "      <th>Machine Hours</th>\n",
       "      <th>Production Runs</th>\n",
       "      <th>Overhead Cost</th>\n",
       "    </tr>\n",
       "  </thead>\n",
       "  <tbody>\n",
       "    <tr>\n",
       "      <th>Month</th>\n",
       "      <td>1.000000</td>\n",
       "      <td>0.037230</td>\n",
       "      <td>0.192256</td>\n",
       "      <td>0.143891</td>\n",
       "    </tr>\n",
       "    <tr>\n",
       "      <th>Machine Hours</th>\n",
       "      <td>0.037230</td>\n",
       "      <td>1.000000</td>\n",
       "      <td>-0.229093</td>\n",
       "      <td>0.631885</td>\n",
       "    </tr>\n",
       "    <tr>\n",
       "      <th>Production Runs</th>\n",
       "      <td>0.192256</td>\n",
       "      <td>-0.229093</td>\n",
       "      <td>1.000000</td>\n",
       "      <td>0.520544</td>\n",
       "    </tr>\n",
       "    <tr>\n",
       "      <th>Overhead Cost</th>\n",
       "      <td>0.143891</td>\n",
       "      <td>0.631885</td>\n",
       "      <td>0.520544</td>\n",
       "      <td>1.000000</td>\n",
       "    </tr>\n",
       "  </tbody>\n",
       "</table>\n",
       "</div>"
      ],
      "text/plain": [
       "                    Month  Machine Hours  Production Runs  Overhead Cost\n",
       "Month            1.000000       0.037230         0.192256       0.143891\n",
       "Machine Hours    0.037230       1.000000        -0.229093       0.631885\n",
       "Production Runs  0.192256      -0.229093         1.000000       0.520544\n",
       "Overhead Cost    0.143891       0.631885         0.520544       1.000000"
      ]
     },
     "execution_count": 63,
     "metadata": {},
     "output_type": "execute_result"
    }
   ],
   "source": [
    "fact_overhead.corr()"
   ]
  },
  {
   "cell_type": "markdown",
   "metadata": {},
   "source": [
    "does not seems to be any high correlation between the independent variables.\n",
    "because we need to compare the impact and importance of independent variables we should first standardize the X column in order to get the standardized coifficient. lets work out below"
   ]
  },
  {
   "cell_type": "code",
   "execution_count": 66,
   "metadata": {},
   "outputs": [],
   "source": [
    "from scipy.stats.mstats import zscore"
   ]
  },
  {
   "cell_type": "code",
   "execution_count": 67,
   "metadata": {},
   "outputs": [
    {
     "name": "stdout",
     "output_type": "stream",
     "text": [
      "[[ 0.42289981 -0.57805615]\n",
      " [-0.87811234 -0.81187662]\n",
      " [ 0.1729014  -1.04569708]\n",
      " [-0.51586974 -1.63024825]\n",
      " [ 0.22392148 -0.11041522]\n",
      " [ 1.63717782 -0.69496638]\n",
      " [ 1.3259553   0.59104618]\n",
      " [-2.09749236 -0.81187662]\n",
      " [-0.46995167  1.29250757]\n",
      " [ 0.30555362 -1.74715848]\n",
      " [ 0.85146852  0.12340525]\n",
      " [-0.40872756  0.12340525]\n",
      " [-0.65872598  1.52632804]\n",
      " [-1.41892523  1.64323827]\n",
      " [ 0.17800341  0.12340525]\n",
      " [ 1.07595689  0.59104618]\n",
      " [ 1.59636175 -0.22732545]\n",
      " [-1.79647386  0.94177688]\n",
      " [-1.32708908  1.17559734]\n",
      " [ 1.72391196 -0.81187662]\n",
      " [-0.39342154  0.24031548]\n",
      " [-0.04138296 -0.46114592]\n",
      " [ 0.24943152 -0.46114592]\n",
      " [-0.18423919  0.70795641]\n",
      " [ 0.09637127 -1.04569708]\n",
      " [-1.72504574 -0.22732545]\n",
      " [-0.11791308  2.57852013]\n",
      " [ 0.67800023 -1.16260731]\n",
      " [ 0.6575922  -0.46114592]\n",
      " [ 0.18820742 -0.34423569]\n",
      " [-1.69443369  0.00649501]\n",
      " [ 0.40759378 -0.92878685]\n",
      " [ 1.13207898  0.59104618]\n",
      " [ 1.36166936 -0.11041522]\n",
      " [-0.21995325 -0.69496638]\n",
      " [-0.33729945  2.1108792 ]]\n"
     ]
    }
   ],
   "source": [
    "# Training a linear regression model \n",
    "Y = fact_overhead[\"Overhead Cost\"]\n",
    "\n",
    "X = fact_overhead[['Machine Hours', 'Production Runs']]\n",
    "std_Y = zscore(Y)\n",
    "std_X = zscore(X)\n",
    "print( zscore(X))"
   ]
  },
  {
   "cell_type": "code",
   "execution_count": 68,
   "metadata": {},
   "outputs": [
    {
     "name": "stdout",
     "output_type": "stream",
     "text": [
      "                            OLS Regression Results                            \n",
      "==============================================================================\n",
      "Dep. Variable:                      y   R-squared:                       0.866\n",
      "Model:                            OLS   Adj. R-squared:                  0.858\n",
      "Method:                 Least Squares   F-statistic:                     107.0\n",
      "Date:                Tue, 30 Aug 2022   Prob (F-statistic):           3.75e-15\n",
      "Time:                        08:06:41   Log-Likelihood:                -14.846\n",
      "No. Observations:                  36   AIC:                             35.69\n",
      "Df Residuals:                      33   BIC:                             40.44\n",
      "Df Model:                           2                                         \n",
      "Covariance Type:            nonrobust                                         \n",
      "==============================================================================\n",
      "                 coef    std err          t      P>|t|      [0.025      0.975]\n",
      "------------------------------------------------------------------------------\n",
      "const      -4.788e-16      0.064  -7.53e-15      1.000      -0.129       0.129\n",
      "x1             0.7927      0.065     12.129      0.000       0.660       0.926\n",
      "x2             0.7022      0.065     10.743      0.000       0.569       0.835\n",
      "==============================================================================\n",
      "Omnibus:                        3.142   Durbin-Watson:                   1.313\n",
      "Prob(Omnibus):                  0.208   Jarque-Bera (JB):                2.259\n",
      "Skew:                          -0.609   Prob(JB):                        0.323\n",
      "Kurtosis:                       3.155   Cond. No.                         1.26\n",
      "==============================================================================\n",
      "\n",
      "Notes:\n",
      "[1] Standard Errors assume that the covariance matrix of the errors is correctly specified.\n"
     ]
    }
   ],
   "source": [
    "std_X = sm.add_constant(std_X) \n",
    "\n",
    "# Fit the model on standardized data to get standardized coefficients \n",
    "std_reg_model = sm.OLS(std_Y, std_X).fit()\n",
    "print(std_reg_model.summary())\n"
   ]
  },
  {
   "cell_type": "code",
   "execution_count": null,
   "metadata": {},
   "outputs": [],
   "source": [
    "# not correlated\n",
    "# 85%\n",
    "# machine hr is better predictor"
   ]
  },
  {
   "cell_type": "code",
   "execution_count": null,
   "metadata": {},
   "outputs": [],
   "source": [
    "lets evaluate individually\n",
    "\n"
   ]
  },
  {
   "cell_type": "code",
   "execution_count": 74,
   "metadata": {},
   "outputs": [],
   "source": [
    "# Training a linear regression model \n",
    "Y = fact_overhead[\"Overhead Cost\"]\n",
    "\n",
    "X = fact_overhead[['Production Runs']]\n",
    "std_X = zscore(X)"
   ]
  },
  {
   "cell_type": "code",
   "execution_count": 75,
   "metadata": {},
   "outputs": [
    {
     "name": "stdout",
     "output_type": "stream",
     "text": [
      "                            OLS Regression Results                            \n",
      "==============================================================================\n",
      "Dep. Variable:                      y   R-squared:                       0.271\n",
      "Model:                            OLS   Adj. R-squared:                  0.250\n",
      "Method:                 Least Squares   F-statistic:                     12.64\n",
      "Date:                Tue, 30 Aug 2022   Prob (F-statistic):            0.00114\n",
      "Time:                        08:09:39   Log-Likelihood:                -45.393\n",
      "No. Observations:                  36   AIC:                             94.79\n",
      "Df Residuals:                      34   BIC:                             97.95\n",
      "Df Model:                           1                                         \n",
      "Covariance Type:            nonrobust                                         \n",
      "==============================================================================\n",
      "                 coef    std err          t      P>|t|      [0.025      0.975]\n",
      "------------------------------------------------------------------------------\n",
      "const      -4.788e-16      0.146  -3.27e-15      1.000      -0.298       0.298\n",
      "x1             0.5205      0.146      3.555      0.001       0.223       0.818\n",
      "==============================================================================\n",
      "Omnibus:                        0.597   Durbin-Watson:                   2.090\n",
      "Prob(Omnibus):                  0.742   Jarque-Bera (JB):                0.683\n",
      "Skew:                          -0.264   Prob(JB):                        0.711\n",
      "Kurtosis:                       2.580   Cond. No.                         1.00\n",
      "==============================================================================\n",
      "\n",
      "Notes:\n",
      "[1] Standard Errors assume that the covariance matrix of the errors is correctly specified.\n"
     ]
    }
   ],
   "source": [
    "std_X = sm.add_constant(std_X) \n",
    "\n",
    "# Fit the model on standardized data to get standardized coefficients \n",
    "std_reg_model = sm.OLS(std_Y, std_X).fit()\n",
    "print(std_reg_model.summary())"
   ]
  },
  {
   "cell_type": "code",
   "execution_count": 76,
   "metadata": {},
   "outputs": [
    {
     "name": "stdout",
     "output_type": "stream",
     "text": [
      "                                 OLS Regression Results                                \n",
      "=======================================================================================\n",
      "Dep. Variable:                      y   R-squared (uncentered):                   0.399\n",
      "Model:                            OLS   Adj. R-squared (uncentered):              0.382\n",
      "Method:                 Least Squares   F-statistic:                              23.26\n",
      "Date:                Tue, 30 Aug 2022   Prob (F-statistic):                    2.73e-05\n",
      "Time:                        08:09:52   Log-Likelihood:                         -41.909\n",
      "No. Observations:                  36   AIC:                                      85.82\n",
      "Df Residuals:                      35   BIC:                                      87.40\n",
      "Df Model:                           1                                                  \n",
      "Covariance Type:            nonrobust                                                  \n",
      "==============================================================================\n",
      "                 coef    std err          t      P>|t|      [0.025      0.975]\n",
      "------------------------------------------------------------------------------\n",
      "x1             0.6319      0.131      4.823      0.000       0.366       0.898\n",
      "==============================================================================\n",
      "Omnibus:                        0.251   Durbin-Watson:                   2.451\n",
      "Prob(Omnibus):                  0.882   Jarque-Bera (JB):                0.140\n",
      "Skew:                           0.141   Prob(JB):                        0.933\n",
      "Kurtosis:                       2.886   Cond. No.                         1.00\n",
      "==============================================================================\n",
      "\n",
      "Notes:\n",
      "[1] R² is computed without centering (uncentered) since the model does not contain a constant.\n",
      "[2] Standard Errors assume that the covariance matrix of the errors is correctly specified.\n"
     ]
    }
   ],
   "source": [
    "X = fact_overhead[['Machine Hours',]]\n",
    "std_X = sm.add_constant(std_X) \n",
    "std_X = zscore(X)\n",
    "# Fit the model on standardized data to get standardized coefficients \n",
    "std_reg_model = sm.OLS(std_Y, std_X).fit()\n",
    "print(std_reg_model.summary())"
   ]
  },
  {
   "cell_type": "markdown",
   "metadata": {},
   "source": [
    " as we saw individually the model performs really poor and its missing the partial effect between the independent variables\n",
    "    \n",
    "    hence we will go with the model with both variables and 85% goodness."
   ]
  }
 ],
 "metadata": {
  "kernelspec": {
   "display_name": "Python 3",
   "language": "python",
   "name": "python3"
  },
  "language_info": {
   "codemirror_mode": {
    "name": "ipython",
    "version": 3
   },
   "file_extension": ".py",
   "mimetype": "text/x-python",
   "name": "python",
   "nbconvert_exporter": "python",
   "pygments_lexer": "ipython3",
   "version": "3.7.6"
  }
 },
 "nbformat": 4,
 "nbformat_minor": 4
}
